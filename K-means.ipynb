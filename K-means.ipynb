{
 "cells": [
  {
   "cell_type": "code",
   "execution_count": 52,
   "metadata": {},
   "outputs": [
    {
     "data": {
      "text/plain": [
       "array([ 1.,  1.,  1.])"
      ]
     },
     "execution_count": 52,
     "metadata": {},
     "output_type": "execute_result"
    }
   ],
   "source": [
    "import numpy as np\n",
    "import pandas as pd\n",
    "import matplotlib.pyplot as plt\n",
    "import seaborn as sb\n",
    "from scipy.io import loadmat\n",
    "\n",
    "#首先构建初步寻找聚类中心（centroids，质心）函数，\n",
    "#再随机设置初始质心，通过欧氏距离初步判断X的每一个变量属于哪个质心\n",
    "def find_closest_centroids(X,centroids):\n",
    "    m = X.shape[0]\n",
    "    k = centroids.shape[0] #聚类中心数量\n",
    "    idx = np.zeros(m)\n",
    "    \n",
    "    for i in range(m): #计算所有点到各个聚类中显得距离，存于数组idx\n",
    "        min_dist = 1000000 \n",
    "        for j in range(k):\n",
    "            dist = np.sum((X[i,:] - centroids[j,:]) ** 2)\n",
    "            if dist < min_dist:\n",
    "                min_dist = dist\n",
    "                idx[i] = j\n",
    "    return idx\n",
    "data = loadmat('D:\\ex7data2.mat')\n",
    "X = data['X']\n",
    "\n",
    "def init_centroids(X,k):#随机选择聚类中心\n",
    "    m,n = X.shape\n",
    "    centroids = np.zeros((k,n))\n",
    "    idx = np.random.randint(0,m,k)\n",
    "    \n",
    "    for i in range(k):\n",
    "        centroids[i,:] = X[idx[i],:]\n",
    "    return centroids\n",
    "\n",
    "initial_centroids = init_centroids(X,3)\n",
    "\n",
    "idx = find_closeset_centroids(X,initial_centroids)\n",
    "idx[0:3]"
   ]
  },
  {
   "cell_type": "code",
   "execution_count": 53,
   "metadata": {},
   "outputs": [
    {
     "name": "stderr",
     "output_type": "stream",
     "text": [
      "C:\\Users\\dell_pc\\Anaconda3\\lib\\site-packages\\ipykernel_launcher.py:8: RuntimeWarning: invalid value encountered in true_divide\n",
      "  \n"
     ]
    },
    {
     "data": {
      "text/plain": [
       "array([[        nan,         nan],\n",
       "       [ 3.68437558,  2.9871008 ],\n",
       "       [        nan,         nan]])"
      ]
     },
     "execution_count": 53,
     "metadata": {},
     "output_type": "execute_result"
    }
   ],
   "source": [
    "#迭代\n",
    "def compute_centroids(X,idx,k):\n",
    "    m,n = X.shape\n",
    "    centroids = np.zeros((k,n))\n",
    "    \n",
    "    for i in range(k):\n",
    "        indices = np.where(idx == i)\n",
    "        centroids[i,:] = (np.sum(X[indices,:],axis=1)/len(indices[0])).ravel()\n",
    "    return centroids\n",
    "compute_centroids(X,idx,3)"
   ]
  },
  {
   "cell_type": "code",
   "execution_count": 54,
   "metadata": {},
   "outputs": [
    {
     "data": {
      "image/png": "[encoded data removed]",
      "text/plain": [
       "<matplotlib.figure.Figure at 0x16117900358>"
      ]
     },
     "metadata": {},
     "output_type": "display_data"
    }
   ],
   "source": [
    "#画图\n",
    "def run_k_means(X,initial_centroids,max_iters):\n",
    "    m,n = X.shape\n",
    "    k = initial_centroids.shape[0]\n",
    "    idx = np.zeros(m)\n",
    "    centroids = initial_centroids\n",
    "    \n",
    "    for i in range(max_iters):\n",
    "        idx = find_closest_centroids(X,centroids)\n",
    "        centroids = compute_centroids(X,idx,k)\n",
    "    \n",
    "    return idx,centroids\n",
    "idx,centroids = run_k_means(X,initial_centroids,10)\n",
    "cluster1 = X[np.where(idx == 0)[0],:]\n",
    "cluster2 = X[np.where(idx == 1)[0],:]\n",
    "cluster3 = X[np.where(idx == 2)[0],:]\n",
    "\n",
    "fig,ax = plt.subplots(figsize=(12,8))\n",
    "ax.scatter(cluster1[:,0],cluster1[:,1],s=30,color='red',label='Cluster 1')\n",
    "ax.scatter(cluster2[:,0],cluster2[:,1],s=30,color='green',label='Cluster 2')\n",
    "ax.scatter(cluster3[:,0],cluster3[:,1],s=30,color='blue',label='Cluster 3')\n",
    "ax.legend()\n",
    "plt.show()"
   ]
  },
  {
   "cell_type": "code",
   "execution_count": null,
   "metadata": {
    "collapsed": true
   },
   "outputs": [],
   "source": []
  }
 ],
 "metadata": {
  "kernelspec": {
   "display_name": "Python 3",
   "language": "python",
   "name": "python3"
  },
  "language_info": {
   "codemirror_mode": {
    "name": "ipython",
    "version": 3
   },
   "file_extension": ".py",
   "mimetype": "text/x-python",
   "name": "python",
   "nbconvert_exporter": "python",
   "pygments_lexer": "ipython3",
   "version": "3.6.3"
  }
 },
 "nbformat": 4,
 "nbformat_minor": 2
}
