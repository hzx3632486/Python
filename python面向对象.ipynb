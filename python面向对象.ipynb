{
 "cells": [
  {
   "cell_type": "code",
   "execution_count": 7,
   "metadata": {},
   "outputs": [
    {
     "name": "stdout",
     "output_type": "stream",
     "text": [
      "我的名字叫：胡子祥，我的年龄是：23,特点是:气宇轩昂 一表人才 雄姿英发 风度翩翩...编不下去了\n",
      "我在学习python\n",
      "我在找实习\n"
     ]
    }
   ],
   "source": [
    "class me:\n",
    "    def python(self):\n",
    "        print('我在学习python')\n",
    "    def shixi(self):\n",
    "        print('我在找实习')\n",
    "    def introduce(self):\n",
    "        print('我的名字叫：%s，我的年龄是：%d,特点是:%s'%(myself.name,myself.age,self.features))\n",
    "myself = me()\n",
    "myself.name = '胡子祥'\n",
    "myself.age = 23\n",
    "myself.features = '气宇轩昂 一表人才 雄姿英发 风度翩翩...编不下去了'\n",
    "myself.introduce()\n",
    "myself.python()\n",
    "myself.shixi()"
   ]
  },
  {
   "cell_type": "code",
   "execution_count": 10,
   "metadata": {},
   "outputs": [],
   "source": [
    "class StudyPython:\n",
    "    def _init(self):\n",
    "        self.studyState = '完全不会'\n",
    "        self.studylevel = 0\n",
    "    def _str(self):\n",
    "        return '学习状态：%s(%d)'%(self.studyState,self.studylevel)\n",
    "    def study(self,studytime):\n",
    "        if studytime >= 0 and studytime < 7:\n",
    "            self.studystate = '入门'\n",
    "        elif studytime >7 and studytime <=30:\n",
    "            self.studystate = '初级阶段'\n",
    "        elif studytime >30 and studytime <=120:\n",
    "            self.studystate = '高级阶段'\n",
    "        elif studytime >120:\n",
    "            self.studystate = '精通'"
   ]
  },
  {
   "cell_type": "code",
   "execution_count": 11,
   "metadata": {},
   "outputs": [
    {
     "name": "stdout",
     "output_type": "stream",
     "text": [
      "<__main__.StudyPython object at 0x000001BEE5FCAD68>\n"
     ]
    }
   ],
   "source": [
    "instant_state = StudyPython()\n",
    "print(instant_state)"
   ]
  },
  {
   "cell_type": "code",
   "execution_count": 12,
   "metadata": {
    "collapsed": true
   },
   "outputs": [],
   "source": [
    "instant_state.study(1) #开始学习"
   ]
  },
  {
   "cell_type": "code",
   "execution_count": 13,
   "metadata": {},
   "outputs": [
    {
     "name": "stdout",
     "output_type": "stream",
     "text": [
      "<__main__.StudyPython object at 0x000001BEE5FCAD68>\n"
     ]
    }
   ],
   "source": [
    "print(instant_state)"
   ]
  },
  {
   "cell_type": "code",
   "execution_count": null,
   "metadata": {
    "collapsed": true
   },
   "outputs": [],
   "source": []
  }
 ],
 "metadata": {
  "kernelspec": {
   "display_name": "Python 3",
   "language": "python",
   "name": "python3"
  },
  "language_info": {
   "codemirror_mode": {
    "name": "ipython",
    "version": 3
   },
   "file_extension": ".py",
   "mimetype": "text/x-python",
   "name": "python",
   "nbconvert_exporter": "python",
   "pygments_lexer": "ipython3",
   "version": "3.6.3"
  }
 },
 "nbformat": 4,
 "nbformat_minor": 2
}
